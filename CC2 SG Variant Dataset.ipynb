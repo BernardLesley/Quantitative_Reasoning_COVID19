{
 "cells": [
  {
   "cell_type": "code",
   "execution_count": 1,
   "metadata": {},
   "outputs": [],
   "source": [
    "import pandas as pd\n",
    "import numpy as np\n",
    "import seaborn as sb; \n",
    "import matplotlib.pyplot as plt"
   ]
  },
  {
   "cell_type": "code",
   "execution_count": 2,
   "metadata": {},
   "outputs": [],
   "source": [
    "df = pd.read_csv('owid-covid-data.csv')"
   ]
  },
  {
   "cell_type": "code",
   "execution_count": 3,
   "metadata": {},
   "outputs": [],
   "source": [
    "df_sg = df.loc[df['location'] == 'Singapore']"
   ]
  },
  {
   "cell_type": "code",
   "execution_count": 38,
   "metadata": {},
   "outputs": [],
   "source": [
    "sub = df_sg.loc[df_sg['date'] == '2021-04-20'][\"total_cases\"].values[0]\n",
    "sub_delta = df_sg.loc[df_sg['date'] == '2021-12-25'][\"total_cases\"].values[0]"
   ]
  },
  {
   "cell_type": "code",
   "execution_count": 39,
   "metadata": {},
   "outputs": [
    {
     "data": {
      "text/plain": [
       "277555.0"
      ]
     },
     "execution_count": 39,
     "metadata": {},
     "output_type": "execute_result"
    }
   ],
   "source": [
    "sub_delta"
   ]
  },
  {
   "cell_type": "code",
   "execution_count": 40,
   "metadata": {},
   "outputs": [],
   "source": [
    "b4_delta = pd.DataFrame(df_sg.loc[df_sg['date'] < '2021-04-21'][\"total_cases\"])\n",
    "delta = pd.DataFrame(df_sg.loc[(df_sg['date'] >= '2021-04-21') &(df_sg['date'] < '2021-12-26')][\"total_cases\"])\n",
    "omicron = pd.DataFrame(df_sg.loc[df_sg['date'] >= '2021-12-26'][\"total_cases\"])"
   ]
  },
  {
   "cell_type": "code",
   "execution_count": 41,
   "metadata": {},
   "outputs": [],
   "source": [
    "delta = delta - sub\n",
    "omicron = omicron - sub_delta"
   ]
  },
  {
   "cell_type": "code",
   "execution_count": 42,
   "metadata": {},
   "outputs": [],
   "source": [
    "l = pd.DataFrame(df_sg[\"location\"])"
   ]
  },
  {
   "cell_type": "code",
   "execution_count": 43,
   "metadata": {},
   "outputs": [],
   "source": [
    "time = pd.DataFrame(df_sg[\"date\"])"
   ]
  },
  {
   "cell_type": "code",
   "execution_count": 44,
   "metadata": {},
   "outputs": [],
   "source": [
    "case = pd.DataFrame(df_sg.loc[df_sg['date'] < '2021-03-01'][\"total_cases\"])\n",
    "case2 = pd.DataFrame(df_sg.loc[df_sg['date'] >= '2021-04-21'][\"total_cases\"])\n",
    "case3 = pd.DataFrame(df_sg.loc[df_sg['date'] >= '2021-12-26'][\"total_cases\"])"
   ]
  },
  {
   "cell_type": "code",
   "execution_count": 45,
   "metadata": {},
   "outputs": [
    {
     "data": {
      "text/html": [
       "<div>\n",
       "<style scoped>\n",
       "    .dataframe tbody tr th:only-of-type {\n",
       "        vertical-align: middle;\n",
       "    }\n",
       "\n",
       "    .dataframe tbody tr th {\n",
       "        vertical-align: top;\n",
       "    }\n",
       "\n",
       "    .dataframe thead th {\n",
       "        text-align: right;\n",
       "    }\n",
       "</style>\n",
       "<table border=\"1\" class=\"dataframe\">\n",
       "  <thead>\n",
       "    <tr style=\"text-align: right;\">\n",
       "      <th></th>\n",
       "      <th>location</th>\n",
       "      <th>date</th>\n",
       "      <th>total_cases</th>\n",
       "    </tr>\n",
       "  </thead>\n",
       "  <tbody>\n",
       "    <tr>\n",
       "      <th>142218</th>\n",
       "      <td>Singapore</td>\n",
       "      <td>2020-01-23</td>\n",
       "      <td>1.0</td>\n",
       "    </tr>\n",
       "    <tr>\n",
       "      <th>142219</th>\n",
       "      <td>Singapore</td>\n",
       "      <td>2020-01-24</td>\n",
       "      <td>3.0</td>\n",
       "    </tr>\n",
       "    <tr>\n",
       "      <th>142220</th>\n",
       "      <td>Singapore</td>\n",
       "      <td>2020-01-25</td>\n",
       "      <td>3.0</td>\n",
       "    </tr>\n",
       "    <tr>\n",
       "      <th>142221</th>\n",
       "      <td>Singapore</td>\n",
       "      <td>2020-01-26</td>\n",
       "      <td>4.0</td>\n",
       "    </tr>\n",
       "    <tr>\n",
       "      <th>142222</th>\n",
       "      <td>Singapore</td>\n",
       "      <td>2020-01-27</td>\n",
       "      <td>5.0</td>\n",
       "    </tr>\n",
       "  </tbody>\n",
       "</table>\n",
       "</div>"
      ],
      "text/plain": [
       "         location        date  total_cases\n",
       "142218  Singapore  2020-01-23          1.0\n",
       "142219  Singapore  2020-01-24          3.0\n",
       "142220  Singapore  2020-01-25          3.0\n",
       "142221  Singapore  2020-01-26          4.0\n",
       "142222  Singapore  2020-01-27          5.0"
      ]
     },
     "execution_count": 45,
     "metadata": {},
     "output_type": "execute_result"
    }
   ],
   "source": [
    "pd.concat([l,time,case],axis=1).dropna().head()"
   ]
  },
  {
   "cell_type": "code",
   "execution_count": 46,
   "metadata": {},
   "outputs": [
    {
     "data": {
      "text/html": [
       "<div>\n",
       "<style scoped>\n",
       "    .dataframe tbody tr th:only-of-type {\n",
       "        vertical-align: middle;\n",
       "    }\n",
       "\n",
       "    .dataframe tbody tr th {\n",
       "        vertical-align: top;\n",
       "    }\n",
       "\n",
       "    .dataframe thead th {\n",
       "        text-align: right;\n",
       "    }\n",
       "</style>\n",
       "<table border=\"1\" class=\"dataframe\">\n",
       "  <thead>\n",
       "    <tr style=\"text-align: right;\">\n",
       "      <th></th>\n",
       "      <th>location</th>\n",
       "      <th>date</th>\n",
       "      <th>total_cases</th>\n",
       "    </tr>\n",
       "  </thead>\n",
       "  <tbody>\n",
       "    <tr>\n",
       "      <th>142672</th>\n",
       "      <td>Singapore</td>\n",
       "      <td>2021-04-21</td>\n",
       "      <td>60880.0</td>\n",
       "    </tr>\n",
       "    <tr>\n",
       "      <th>142673</th>\n",
       "      <td>Singapore</td>\n",
       "      <td>2021-04-22</td>\n",
       "      <td>60904.0</td>\n",
       "    </tr>\n",
       "    <tr>\n",
       "      <th>142674</th>\n",
       "      <td>Singapore</td>\n",
       "      <td>2021-04-23</td>\n",
       "      <td>60943.0</td>\n",
       "    </tr>\n",
       "    <tr>\n",
       "      <th>142675</th>\n",
       "      <td>Singapore</td>\n",
       "      <td>2021-04-24</td>\n",
       "      <td>60966.0</td>\n",
       "    </tr>\n",
       "    <tr>\n",
       "      <th>142676</th>\n",
       "      <td>Singapore</td>\n",
       "      <td>2021-04-25</td>\n",
       "      <td>61006.0</td>\n",
       "    </tr>\n",
       "  </tbody>\n",
       "</table>\n",
       "</div>"
      ],
      "text/plain": [
       "         location        date  total_cases\n",
       "142672  Singapore  2021-04-21      60880.0\n",
       "142673  Singapore  2021-04-22      60904.0\n",
       "142674  Singapore  2021-04-23      60943.0\n",
       "142675  Singapore  2021-04-24      60966.0\n",
       "142676  Singapore  2021-04-25      61006.0"
      ]
     },
     "execution_count": 46,
     "metadata": {},
     "output_type": "execute_result"
    }
   ],
   "source": [
    "pd.concat([l,time,case2],axis=1).dropna().head()"
   ]
  },
  {
   "cell_type": "code",
   "execution_count": 47,
   "metadata": {},
   "outputs": [
    {
     "data": {
      "text/html": [
       "<div>\n",
       "<style scoped>\n",
       "    .dataframe tbody tr th:only-of-type {\n",
       "        vertical-align: middle;\n",
       "    }\n",
       "\n",
       "    .dataframe tbody tr th {\n",
       "        vertical-align: top;\n",
       "    }\n",
       "\n",
       "    .dataframe thead th {\n",
       "        text-align: right;\n",
       "    }\n",
       "</style>\n",
       "<table border=\"1\" class=\"dataframe\">\n",
       "  <thead>\n",
       "    <tr style=\"text-align: right;\">\n",
       "      <th></th>\n",
       "      <th>location</th>\n",
       "      <th>date</th>\n",
       "      <th>total_cases</th>\n",
       "    </tr>\n",
       "  </thead>\n",
       "  <tbody>\n",
       "    <tr>\n",
       "      <th>142921</th>\n",
       "      <td>Singapore</td>\n",
       "      <td>2021-12-26</td>\n",
       "      <td>277764.0</td>\n",
       "    </tr>\n",
       "    <tr>\n",
       "      <th>142922</th>\n",
       "      <td>Singapore</td>\n",
       "      <td>2021-12-27</td>\n",
       "      <td>278044.0</td>\n",
       "    </tr>\n",
       "    <tr>\n",
       "      <th>142923</th>\n",
       "      <td>Singapore</td>\n",
       "      <td>2021-12-28</td>\n",
       "      <td>278409.0</td>\n",
       "    </tr>\n",
       "    <tr>\n",
       "      <th>142924</th>\n",
       "      <td>Singapore</td>\n",
       "      <td>2021-12-29</td>\n",
       "      <td>278750.0</td>\n",
       "    </tr>\n",
       "    <tr>\n",
       "      <th>142925</th>\n",
       "      <td>Singapore</td>\n",
       "      <td>2021-12-30</td>\n",
       "      <td>279061.0</td>\n",
       "    </tr>\n",
       "  </tbody>\n",
       "</table>\n",
       "</div>"
      ],
      "text/plain": [
       "         location        date  total_cases\n",
       "142921  Singapore  2021-12-26     277764.0\n",
       "142922  Singapore  2021-12-27     278044.0\n",
       "142923  Singapore  2021-12-28     278409.0\n",
       "142924  Singapore  2021-12-29     278750.0\n",
       "142925  Singapore  2021-12-30     279061.0"
      ]
     },
     "execution_count": 47,
     "metadata": {},
     "output_type": "execute_result"
    }
   ],
   "source": [
    "pd.concat([l,time,case3],axis=1).dropna().head()"
   ]
  },
  {
   "cell_type": "code",
   "execution_count": 48,
   "metadata": {},
   "outputs": [
    {
     "data": {
      "image/png": "[encoded data removed]",
      "text/plain": [
       "<Figure size 432x288 with 1 Axes>"
      ]
     },
     "metadata": {},
     "output_type": "display_data"
    }
   ],
   "source": [
    "plt.title('Comparing Total Number of Cases with Variants in Singapore')\n",
    "plt.ylabel('Number of Cases')\n",
    "plt.xlabel('Timeline')\n",
    "plt.xticks([])\n",
    "plt.plot(b4_delta,label='Before Delta Wave')\n",
    "plt.plot(delta,label='Delta Wave')\n",
    "plt.plot(omicron,label='Omicron Wave')\n",
    "leg = plt.legend(loc='upper center')\n",
    "plt.show()"
   ]
  }
 ],
 "metadata": {
  "kernelspec": {
   "display_name": "Python 3",
   "language": "python",
   "name": "python3"
  },
  "language_info": {
   "codemirror_mode": {
    "name": "ipython",
    "version": 3
   },
   "file_extension": ".py",
   "mimetype": "text/x-python",
   "name": "python",
   "nbconvert_exporter": "python",
   "pygments_lexer": "ipython3",
   "version": "3.6.5"
  }
 },
 "nbformat": 4,
 "nbformat_minor": 5
}
